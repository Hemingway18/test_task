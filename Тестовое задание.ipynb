{
 "cells": [
  {
   "cell_type": "code",
   "execution_count": 174,
   "metadata": {},
   "outputs": [],
   "source": [
    "import pandas as pd\n",
    "import re"
   ]
  },
  {
   "cell_type": "markdown",
   "metadata": {},
   "source": [
    "### Функция, которая проходя по датасету снизу вверх, создает новый готовый датасет с актуальными данными без пропусков пред. значений, если они были"
   ]
  },
  {
   "cell_type": "code",
   "execution_count": 175,
   "metadata": {},
   "outputs": [],
   "source": [
    "def getFinalDataset(df):\n",
    "    finalDf = pd.DataFrame(columns=df.columns)\n",
    "    uidList = []\n",
    "    for i in range(len(df)-1, -1, -1):\n",
    "        row = df.iloc[i]\n",
    "        curUid = row['uid']\n",
    "        if curUid not in uidList:\n",
    "            uidList.append(curUid)\n",
    "            finalDf.loc[len(finalDf)] = list(df.iloc[i])\n",
    "        else:\n",
    "            a = finalDf.loc[(finalDf['uid'] == curUid)].fillna('-').squeeze(axis=0)\n",
    "            idx = finalDf.loc[(finalDf['uid'] == curUid)].index\n",
    "            for col in df.columns:\n",
    "                if (a[col] == '-' and row[col] != '-') or (a[col] == 0 and row[col] != 0):\n",
    "                    finalDf.loc[idx, col] = row[col]\n",
    "    return finalDf\n"
   ]
  },
  {
   "cell_type": "markdown",
   "metadata": {},
   "source": [
    "### Функция, вычленяющая ссылки из строки"
   ]
  },
  {
   "cell_type": "code",
   "execution_count": 176,
   "metadata": {},
   "outputs": [],
   "source": [
    "def getClearSocial(string):\n",
    "    pattern = r'http[s]?://(?:[a-zA-Z]|[0-9]|[$-_@.&+]|[!*\\\\(\\\\),]|(?:%[0-9a-fA-F][0-9a-fA-F]))+'\n",
    "    links = str(re.findall(pattern, string))\n",
    "    if links == '[]':\n",
    "        return '-'\n",
    "    return links"
   ]
  },
  {
   "cell_type": "code",
   "execution_count": 177,
   "metadata": {},
   "outputs": [],
   "source": [
    "pf1 = pd.read_excel('hotels_parsing_result.xlsx', sheet_name='platform1').fillna('-')\n",
    "pf2 = pd.read_excel('hotels_parsing_result.xlsx', sheet_name='platfrom2').fillna('-')\n"
   ]
  },
  {
   "cell_type": "markdown",
   "metadata": {},
   "source": [
    "### Получаем ссылки на соц.сети и очищаем описание отелей от гипертекстовой разметки"
   ]
  },
  {
   "cell_type": "code",
   "execution_count": 178,
   "metadata": {},
   "outputs": [],
   "source": [
    "finalPf1 = getFinalDataset(pf1)\n",
    "finalPf2 = getFinalDataset(pf2)\n",
    "\n",
    "finalPf1['contact_social'] = finalPf1['contact_social'].apply(lambda x : getClearSocial(x))\n",
    "finalPf2['contact_social'] = finalPf2['contact_social'].apply(lambda x : getClearSocial(x))\n",
    "\n",
    "finalPf1['description'] = finalPf1['description'].apply(lambda x : x.replace('<br />', '').replace('•&nbsp;', ''))\n",
    "finalPf2['description'] = finalPf2['description'].apply(lambda x : x.replace('<br />', '').replace('•&nbsp;', ''))"
   ]
  },
  {
   "cell_type": "markdown",
   "metadata": {},
   "source": [
    "### Создаем дополнительную колонку, содержащую все способы связи/получения информации"
   ]
  },
  {
   "cell_type": "code",
   "execution_count": 179,
   "metadata": {},
   "outputs": [],
   "source": [
    "finalPf2['allContacts'] = ''\n",
    "for i in range(len(finalPf2)):\n",
    "    tup = (finalPf2.loc[i, 'email'], finalPf2.loc[i, 'phone'], finalPf2.loc[i, 'website'])\n",
    "    finalPf2.at[i, 'allContacts'] = tup\n",
    "\n",
    "finalPf1['allContacts'] = ''\n",
    "for i in range(len(finalPf1)):\n",
    "    tup = (finalPf2.loc[i, 'email'], finalPf1.loc[i, 'phone'], finalPf1.loc[i, 'website'])\n",
    "    finalPf1.at[i, 'allContacts'] = tup"
   ]
  },
  {
   "cell_type": "markdown",
   "metadata": {},
   "source": [
    "### Топ-10 отелей по количеству телефонов, Platform2"
   ]
  },
  {
   "cell_type": "code",
   "execution_count": 180,
   "metadata": {},
   "outputs": [
    {
     "data": {
      "text/html": [
       "<div>\n",
       "<style scoped>\n",
       "    .dataframe tbody tr th:only-of-type {\n",
       "        vertical-align: middle;\n",
       "    }\n",
       "\n",
       "    .dataframe tbody tr th {\n",
       "        vertical-align: top;\n",
       "    }\n",
       "\n",
       "    .dataframe thead th {\n",
       "        text-align: right;\n",
       "    }\n",
       "</style>\n",
       "<table border=\"1\" class=\"dataframe\">\n",
       "  <thead>\n",
       "    <tr style=\"text-align: right;\">\n",
       "      <th></th>\n",
       "      <th>title</th>\n",
       "      <th>phoneCount</th>\n",
       "    </tr>\n",
       "  </thead>\n",
       "  <tbody>\n",
       "    <tr>\n",
       "      <th>95</th>\n",
       "      <td>Goldy Land</td>\n",
       "      <td>6.0</td>\n",
       "    </tr>\n",
       "    <tr>\n",
       "      <th>113</th>\n",
       "      <td>Панорама, мини-отель</td>\n",
       "      <td>6.0</td>\n",
       "    </tr>\n",
       "    <tr>\n",
       "      <th>48</th>\n",
       "      <td>Ивкор, база отдыха</td>\n",
       "      <td>5.0</td>\n",
       "    </tr>\n",
       "    <tr>\n",
       "      <th>34</th>\n",
       "      <td>Берлога на озере Калкан, база отдыха</td>\n",
       "      <td>5.0</td>\n",
       "    </tr>\n",
       "    <tr>\n",
       "      <th>449</th>\n",
       "      <td>Сказка, мини-отель</td>\n",
       "      <td>4.0</td>\n",
       "    </tr>\n",
       "    <tr>\n",
       "      <th>170</th>\n",
       "      <td>Vgosti, гостиница</td>\n",
       "      <td>4.0</td>\n",
       "    </tr>\n",
       "    <tr>\n",
       "      <th>347</th>\n",
       "      <td>Межгорье, мини-гостиница</td>\n",
       "      <td>4.0</td>\n",
       "    </tr>\n",
       "    <tr>\n",
       "      <th>389</th>\n",
       "      <td>Альпин Шале, гостевой дом</td>\n",
       "      <td>4.0</td>\n",
       "    </tr>\n",
       "    <tr>\n",
       "      <th>406</th>\n",
       "      <td>La Bereg, гостевой комплекс</td>\n",
       "      <td>4.0</td>\n",
       "    </tr>\n",
       "    <tr>\n",
       "      <th>492</th>\n",
       "      <td>Добр здравич, гостиница</td>\n",
       "      <td>4.0</td>\n",
       "    </tr>\n",
       "  </tbody>\n",
       "</table>\n",
       "</div>"
      ],
      "text/plain": [
       "                                    title  phoneCount\n",
       "95                             Goldy Land         6.0\n",
       "113                  Панорама, мини-отель         6.0\n",
       "48                     Ивкор, база отдыха         5.0\n",
       "34   Берлога на озере Калкан, база отдыха         5.0\n",
       "449                    Сказка, мини-отель         4.0\n",
       "170                     Vgosti, гостиница         4.0\n",
       "347              Межгорье, мини-гостиница         4.0\n",
       "389             Альпин Шале, гостевой дом         4.0\n",
       "406           La Bereg, гостевой комплекс         4.0\n",
       "492               Добр здравич, гостиница         4.0"
      ]
     },
     "execution_count": 180,
     "metadata": {},
     "output_type": "execute_result"
    }
   ],
   "source": [
    "for i in range(len(finalPf2)):\n",
    "    finalPf2.loc[i, 'phoneCount'] = len(finalPf2.loc[i, 'phone'].split(','))\n",
    "finalPf2.sort_values('phoneCount', ascending=False)[['title', 'phoneCount']].head(10)\n"
   ]
  },
  {
   "cell_type": "markdown",
   "metadata": {},
   "source": [
    "### Топ-10 отелей по количеству отзывов, Platform2"
   ]
  },
  {
   "cell_type": "code",
   "execution_count": 181,
   "metadata": {},
   "outputs": [
    {
     "data": {
      "text/html": [
       "<div>\n",
       "<style scoped>\n",
       "    .dataframe tbody tr th:only-of-type {\n",
       "        vertical-align: middle;\n",
       "    }\n",
       "\n",
       "    .dataframe tbody tr th {\n",
       "        vertical-align: top;\n",
       "    }\n",
       "\n",
       "    .dataframe thead th {\n",
       "        text-align: right;\n",
       "    }\n",
       "</style>\n",
       "<table border=\"1\" class=\"dataframe\">\n",
       "  <thead>\n",
       "    <tr style=\"text-align: right;\">\n",
       "      <th></th>\n",
       "      <th>title</th>\n",
       "      <th>review_count</th>\n",
       "    </tr>\n",
       "  </thead>\n",
       "  <tbody>\n",
       "    <tr>\n",
       "      <th>499</th>\n",
       "      <td>Hilton Garden Inn Ufa Riverside, отель</td>\n",
       "      <td>823.0</td>\n",
       "    </tr>\n",
       "    <tr>\n",
       "      <th>502</th>\n",
       "      <td>Башкирия, гостиничный комплекс</td>\n",
       "      <td>780.0</td>\n",
       "    </tr>\n",
       "    <tr>\n",
       "      <th>496</th>\n",
       "      <td>Hampton by hilton Ufa, отель</td>\n",
       "      <td>451.0</td>\n",
       "    </tr>\n",
       "    <tr>\n",
       "      <th>497</th>\n",
       "      <td>Урал тау, гостиничный комплекс</td>\n",
       "      <td>416.0</td>\n",
       "    </tr>\n",
       "    <tr>\n",
       "      <th>514</th>\n",
       "      <td>AZIMUT Сити Отель Уфа</td>\n",
       "      <td>386.0</td>\n",
       "    </tr>\n",
       "    <tr>\n",
       "      <th>537</th>\n",
       "      <td>Амакс Сити-отель, гостиница</td>\n",
       "      <td>358.0</td>\n",
       "    </tr>\n",
       "    <tr>\n",
       "      <th>500</th>\n",
       "      <td>Президент отель, гостиничный комплекс</td>\n",
       "      <td>341.0</td>\n",
       "    </tr>\n",
       "    <tr>\n",
       "      <th>501</th>\n",
       "      <td>Sheratonplaza Ufa Congress Hotel, гостиница</td>\n",
       "      <td>240.0</td>\n",
       "    </tr>\n",
       "    <tr>\n",
       "      <th>488</th>\n",
       "      <td>ВолнаСити, отель</td>\n",
       "      <td>232.0</td>\n",
       "    </tr>\n",
       "    <tr>\n",
       "      <th>520</th>\n",
       "      <td>Свояк, гостиничный комплекс</td>\n",
       "      <td>222.0</td>\n",
       "    </tr>\n",
       "  </tbody>\n",
       "</table>\n",
       "</div>"
      ],
      "text/plain": [
       "                                           title  review_count\n",
       "499       Hilton Garden Inn Ufa Riverside, отель         823.0\n",
       "502               Башкирия, гостиничный комплекс         780.0\n",
       "496                 Hampton by hilton Ufa, отель         451.0\n",
       "497               Урал тау, гостиничный комплекс         416.0\n",
       "514                        AZIMUT Сити Отель Уфа         386.0\n",
       "537                  Амакс Сити-отель, гостиница         358.0\n",
       "500        Президент отель, гостиничный комплекс         341.0\n",
       "501  Sheratonplaza Ufa Congress Hotel, гостиница         240.0\n",
       "488                             ВолнаСити, отель         232.0\n",
       "520                  Свояк, гостиничный комплекс         222.0"
      ]
     },
     "execution_count": 181,
     "metadata": {},
     "output_type": "execute_result"
    }
   ],
   "source": [
    "finalPf2['review_count'] = finalPf2['review_count'].replace('-', 0)\n",
    "finalPf2.sort_values('review_count', ascending=False)[['title', 'review_count']].head(10)"
   ]
  },
  {
   "cell_type": "markdown",
   "metadata": {},
   "source": [
    "### Топ-10 отелей по количеству телефонов, Platform1"
   ]
  },
  {
   "cell_type": "code",
   "execution_count": 182,
   "metadata": {},
   "outputs": [
    {
     "data": {
      "text/html": [
       "<div>\n",
       "<style scoped>\n",
       "    .dataframe tbody tr th:only-of-type {\n",
       "        vertical-align: middle;\n",
       "    }\n",
       "\n",
       "    .dataframe tbody tr th {\n",
       "        vertical-align: top;\n",
       "    }\n",
       "\n",
       "    .dataframe thead th {\n",
       "        text-align: right;\n",
       "    }\n",
       "</style>\n",
       "<table border=\"1\" class=\"dataframe\">\n",
       "  <thead>\n",
       "    <tr style=\"text-align: right;\">\n",
       "      <th></th>\n",
       "      <th>title</th>\n",
       "      <th>phoneCount</th>\n",
       "    </tr>\n",
       "  </thead>\n",
       "  <tbody>\n",
       "    <tr>\n",
       "      <th>0</th>\n",
       "      <td>Airport Hotel Ufa</td>\n",
       "      <td>1.0</td>\n",
       "    </tr>\n",
       "    <tr>\n",
       "      <th>3678</th>\n",
       "      <td>Квартира \"Балтийские ночи\" в Самом Центре с Кл...</td>\n",
       "      <td>1.0</td>\n",
       "    </tr>\n",
       "    <tr>\n",
       "      <th>3686</th>\n",
       "      <td>Апартаменты Апарт Елена</td>\n",
       "      <td>1.0</td>\n",
       "    </tr>\n",
       "    <tr>\n",
       "      <th>3685</th>\n",
       "      <td>Апартаменты на Монетном Переулке</td>\n",
       "      <td>1.0</td>\n",
       "    </tr>\n",
       "    <tr>\n",
       "      <th>3684</th>\n",
       "      <td>Хостел КёнигLoft</td>\n",
       "      <td>1.0</td>\n",
       "    </tr>\n",
       "    <tr>\n",
       "      <th>3683</th>\n",
       "      <td>Квартира Пролетарская</td>\n",
       "      <td>1.0</td>\n",
       "    </tr>\n",
       "    <tr>\n",
       "      <th>3682</th>\n",
       "      <td>Мини-отель Robertina</td>\n",
       "      <td>1.0</td>\n",
       "    </tr>\n",
       "    <tr>\n",
       "      <th>3681</th>\n",
       "      <td>Квартира У Резиденции Королей</td>\n",
       "      <td>1.0</td>\n",
       "    </tr>\n",
       "    <tr>\n",
       "      <th>3680</th>\n",
       "      <td>Апартаменты в центре города на Нижнем озере</td>\n",
       "      <td>1.0</td>\n",
       "    </tr>\n",
       "    <tr>\n",
       "      <th>3679</th>\n",
       "      <td>Апартаменты Сергеева 5</td>\n",
       "      <td>1.0</td>\n",
       "    </tr>\n",
       "  </tbody>\n",
       "</table>\n",
       "</div>"
      ],
      "text/plain": [
       "                                                  title  phoneCount\n",
       "0                                     Airport Hotel Ufa         1.0\n",
       "3678  Квартира \"Балтийские ночи\" в Самом Центре с Кл...         1.0\n",
       "3686                            Апартаменты Апарт Елена         1.0\n",
       "3685                   Апартаменты на Монетном Переулке         1.0\n",
       "3684                                   Хостел КёнигLoft         1.0\n",
       "3683                              Квартира Пролетарская         1.0\n",
       "3682                               Мини-отель Robertina         1.0\n",
       "3681                      Квартира У Резиденции Королей         1.0\n",
       "3680        Апартаменты в центре города на Нижнем озере         1.0\n",
       "3679                             Апартаменты Сергеева 5         1.0"
      ]
     },
     "execution_count": 182,
     "metadata": {},
     "output_type": "execute_result"
    }
   ],
   "source": [
    "for i in range(len(finalPf1)):\n",
    "    finalPf1.loc[i, 'phoneCount'] = len(finalPf1.loc[i, 'phone'].split(','))\n",
    "finalPf1.sort_values('phoneCount', ascending=False)[['title', 'phoneCount']].head(10)"
   ]
  },
  {
   "cell_type": "markdown",
   "metadata": {},
   "source": [
    "### Топ-10 отелей по количеству отзывов, Platform1"
   ]
  },
  {
   "cell_type": "code",
   "execution_count": 183,
   "metadata": {},
   "outputs": [
    {
     "data": {
      "text/html": [
       "<div>\n",
       "<style scoped>\n",
       "    .dataframe tbody tr th:only-of-type {\n",
       "        vertical-align: middle;\n",
       "    }\n",
       "\n",
       "    .dataframe tbody tr th {\n",
       "        vertical-align: top;\n",
       "    }\n",
       "\n",
       "    .dataframe thead th {\n",
       "        text-align: right;\n",
       "    }\n",
       "</style>\n",
       "<table border=\"1\" class=\"dataframe\">\n",
       "  <thead>\n",
       "    <tr style=\"text-align: right;\">\n",
       "      <th></th>\n",
       "      <th>title</th>\n",
       "      <th>review_count</th>\n",
       "    </tr>\n",
       "  </thead>\n",
       "  <tbody>\n",
       "    <tr>\n",
       "      <th>3780</th>\n",
       "      <td>Radisson Blu Hotel Kaliningrad</td>\n",
       "      <td>1201</td>\n",
       "    </tr>\n",
       "    <tr>\n",
       "      <th>5513</th>\n",
       "      <td>AZIMUT Сити Отель Уфа</td>\n",
       "      <td>988</td>\n",
       "    </tr>\n",
       "    <tr>\n",
       "      <th>3695</th>\n",
       "      <td>Отель Кайзерхоф (Kaiserhof)</td>\n",
       "      <td>930</td>\n",
       "    </tr>\n",
       "    <tr>\n",
       "      <th>36</th>\n",
       "      <td>Отель Ibis Калининград Центр</td>\n",
       "      <td>837</td>\n",
       "    </tr>\n",
       "    <tr>\n",
       "      <th>5516</th>\n",
       "      <td>Hilton Garden Inn Ufa Riverside</td>\n",
       "      <td>616</td>\n",
       "    </tr>\n",
       "    <tr>\n",
       "      <th>5510</th>\n",
       "      <td>Отель АМАКС Сити-отель</td>\n",
       "      <td>540</td>\n",
       "    </tr>\n",
       "    <tr>\n",
       "      <th>5515</th>\n",
       "      <td>Отель Hampton by Hilton Уфа</td>\n",
       "      <td>460</td>\n",
       "    </tr>\n",
       "    <tr>\n",
       "      <th>5328</th>\n",
       "      <td>Гостиничный Комплекс Президент Отель</td>\n",
       "      <td>414</td>\n",
       "    </tr>\n",
       "    <tr>\n",
       "      <th>39</th>\n",
       "      <td>Гостиница Мартон Палас Калининград</td>\n",
       "      <td>334</td>\n",
       "    </tr>\n",
       "    <tr>\n",
       "      <th>3943</th>\n",
       "      <td>Гостиница \"Шкиперская\"</td>\n",
       "      <td>302</td>\n",
       "    </tr>\n",
       "  </tbody>\n",
       "</table>\n",
       "</div>"
      ],
      "text/plain": [
       "                                     title  review_count\n",
       "3780        Radisson Blu Hotel Kaliningrad          1201\n",
       "5513                 AZIMUT Сити Отель Уфа           988\n",
       "3695           Отель Кайзерхоф (Kaiserhof)           930\n",
       "36            Отель Ibis Калининград Центр           837\n",
       "5516       Hilton Garden Inn Ufa Riverside           616\n",
       "5510                Отель АМАКС Сити-отель           540\n",
       "5515           Отель Hampton by Hilton Уфа           460\n",
       "5328  Гостиничный Комплекс Президент Отель           414\n",
       "39      Гостиница Мартон Палас Калининград           334\n",
       "3943                Гостиница \"Шкиперская\"           302"
      ]
     },
     "execution_count": 183,
     "metadata": {},
     "output_type": "execute_result"
    }
   ],
   "source": [
    "finalPf1['review_count'] = finalPf1['review_count'].replace('-', 0)\n",
    "finalPf1.sort_values('review_count', ascending=False)[['title', 'review_count']].head(10)"
   ]
  }
 ],
 "metadata": {
  "kernelspec": {
   "display_name": "Python 3 (ipykernel)",
   "language": "python",
   "name": "python3"
  },
  "language_info": {
   "codemirror_mode": {
    "name": "ipython",
    "version": 3
   },
   "file_extension": ".py",
   "mimetype": "text/x-python",
   "name": "python",
   "nbconvert_exporter": "python",
   "pygments_lexer": "ipython3",
   "version": "3.9.13"
  }
 },
 "nbformat": 4,
 "nbformat_minor": 4
}
